{
  "nbformat": 4,
  "nbformat_minor": 0,
  "metadata": {
    "colab": {
      "provenance": [],
      "gpuType": "T4"
    },
    "kernelspec": {
      "name": "python3",
      "display_name": "Python 3"
    },
    "language_info": {
      "name": "python"
    },
    "accelerator": "GPU"
  },
  "cells": [
    {
      "cell_type": "markdown",
      "source": [
        "# Character-RNN with Pytorch\n",
        "\n",
        "In this homework, you will:\n",
        "\n",
        "1. Implement a basic pytorch RNN module\n",
        "2. Train a basic character-RNN language model on\n",
        "  * Shakespeare's books\n",
        "  * Linux kernel code\n",
        "3. Play with the two trained language models to generate texts"
      ],
      "metadata": {
        "id": "VVQ5bftqHzrA"
      }
    },
    {
      "cell_type": "markdown",
      "source": [
        "## Task 1: Implement a RNN module\n",
        "\n",
        "**Task 1.1:** Write a PyTorch module named `MyRNNLayer` that processes a sequence of inputs and produces a corresponding sequence of outputs. This module should replicate the functionality of PyTorch's official `RNN` with single layer.\n",
        "\n",
        "To validate your implementation, use the provided `test_RNNLayer` function to compare the behavior of your custom `MyRNNLayer` with PyTorch's built-in RNN layer."
      ],
      "metadata": {
        "id": "QJX11jt1IUEK"
      }
    },
    {
      "cell_type": "code",
      "execution_count": 20,
      "metadata": {
        "id": "RCXRtP4SHxFy"
      },
      "outputs": [],
      "source": [
        "import torch\n",
        "import torch.nn as nn\n",
        "import torch.optim as optim\n",
        "from tqdm import tqdm\n",
        "\n",
        "\n",
        "class MyRNNLayer(nn.Module):\n",
        "    \"\"\"\n",
        "    A PyTorch implementation of a single RNN layer.\n",
        "    \"\"\"\n",
        "    def __init__(self, input_size, hidden_size):\n",
        "        super(MyRNNLayer, self).__init__()\n",
        "\n",
        "        self.input_size = input_size\n",
        "        self.hidden_size = hidden_size\n",
        "        self.activation_fn = torch.tanh\n",
        "\n",
        "        #################################################\n",
        "        ## TODO:  Initialize the following parameters: ##\n",
        "        ## Wxh: W_xh in the class slide                ##\n",
        "        ## Whh: W_hh in the class slide                ##\n",
        "        ## bh: b_h in the class slide                  ##\n",
        "        #################################################\n",
        "        ## related document: https://pytorch.org/docs/stable/generated/torch.nn.parameter.Parameter.html\n",
        "\n",
        "        self.Wxh = nn.Parameter(torch.randn(self.hidden_size, self.input_size) * 0.01)\n",
        "        self.Whh = nn.Parameter(torch.randn(self.hidden_size, self.hidden_size) * 0.01)\n",
        "        self.bh = nn.Parameter(torch.randn(self.hidden_size))\n",
        "\n",
        "        ######################################\n",
        "        ############ End of your code ########\n",
        "        ######################################\n",
        "\n",
        "\n",
        "    def forward(self, x, h0):\n",
        "        \"\"\"\n",
        "        Forward pass for MyRNN layer.\n",
        "        :param x: Input sequence (time_steps, batch_size, input_size)\n",
        "        :param h0: Initial hidden state (batch_size, hidden_size)\n",
        "        :return: Sequence of hidden states (time_steps, batch_size, hidden_size), final hidden state\n",
        "        \"\"\"\n",
        "        time_steps, batch_size, _ = x.size()\n",
        "        h = h0 # The hidden states at current timestep\n",
        "        outputs = [] # The hidden states across all timesteps\n",
        "\n",
        "        #################################################\n",
        "        ## TODO: apply RNN through the timestep        ##\n",
        "        #################################################\n",
        "        for t in range(time_steps):\n",
        "            # h_t = tanh(W_hh * h_t-1 + W_xh * x_t + b_h)\n",
        "            h = self.activation_fn(torch.matmul(h, self.Whh.t()) + torch.matmul(x[t], self.Wxh.t()) + self.bh)\n",
        "            outputs.append(h)\n",
        "\n",
        "        outputs = torch.stack(outputs, dim = 0)\n",
        "        #################################################\n",
        "        ############      End of your code       ########\n",
        "        #################################################\n",
        "        return outputs, h\n",
        "\n",
        "@torch.no_grad()\n",
        "def test_RNNLayer():\n",
        "    input_size = 4\n",
        "    hidden_size = 3\n",
        "    batch_size = 2\n",
        "    time_steps = 5\n",
        "\n",
        "    # Initialize custom RNN layer\n",
        "    my_rnn = MyRNNLayer(input_size, hidden_size)\n",
        "\n",
        "    # Initialize PyTorch RNN using weights of custom RNN\n",
        "    rnn = nn.RNN(input_size, hidden_size, batch_first=False, nonlinearity='tanh')\n",
        "    rnn.weight_ih_l0.data = my_rnn.Wxh.data.clone()\n",
        "    rnn.weight_hh_l0.data = my_rnn.Whh.data.clone()\n",
        "    rnn.bias_ih_l0.data = my_rnn.bh.data.clone()\n",
        "    rnn.bias_hh_l0.data = torch.zeros_like(rnn.bias_hh_l0.data)\n",
        "\n",
        "    # Random input\n",
        "    x = torch.randn(time_steps, batch_size, input_size)\n",
        "    h0 = torch.zeros(batch_size, hidden_size)\n",
        "\n",
        "    # Forward pass through custom RNN\n",
        "    h_basic_seq, h_basic_final = my_rnn(x, h0)\n",
        "\n",
        "    # Forward pass through PyTorch RNN\n",
        "    h0_torch = torch.zeros(1, batch_size, hidden_size)  # PyTorch expects (num_layers, batch_size, hidden_size)\n",
        "    h_pytorch_seq, h_pytorch_final = rnn(x, h0_torch)\n",
        "\n",
        "    # Compare outputs\n",
        "    print(\"\\nMy RNNLayer Final Hidden State:\\n\", h_basic_final)\n",
        "    print(\"\\nPyTorch RNN Final Hidden State:\\n\", h_pytorch_final.squeeze(0))\n",
        "\n",
        "    # Assert similarity using torch.allclose\n",
        "    seq_match = torch.allclose(h_basic_seq, h_pytorch_seq, rtol=1e-5, atol=1e-5)\n",
        "    final_match = torch.allclose(h_basic_final, h_pytorch_final.squeeze(0), rtol=1e-5, atol=1e-5)\n",
        "\n",
        "    if seq_match and final_match:\n",
        "        print(\"\\nTest Passed: MyRNNLayer matches PyTorch RNN!\")\n",
        "    else:\n",
        "        print(\"\\nTest Failed: Outputs do not match.\")\n",
        "        if not seq_match:\n",
        "            print(\"Sequence outputs do not match.\")\n",
        "        if not final_match:\n",
        "            print(\"Final hidden states do not match.\")"
      ]
    },
    {
      "cell_type": "code",
      "source": [
        "# Run the test RNN layer function, you should expect `Test Passed` in the output\n",
        "# Below is an example test pass output:\n",
        "# My RNNLayer Final Hidden State:\n",
        "#  tensor([[ 0.2935,  0.0381, -0.0445],\n",
        "#         [ 0.2169, -0.2411, -0.1285]])\n",
        "#\n",
        "# PyTorch RNN Final Hidden State:\n",
        "#  tensor([[ 0.2935,  0.0381, -0.0445],\n",
        "#         [ 0.2169, -0.2411, -0.1285]])\n",
        "#\n",
        "# Test Passed: MyRNNLayer matches PyTorch RNN!\n",
        "\n",
        "test_RNNLayer()"
      ],
      "metadata": {
        "id": "OID0J8qZLk4L",
        "colab": {
          "base_uri": "https://localhost:8080/"
        },
        "outputId": "6a839112-bd20-420a-9011-58e3fe646eec"
      },
      "execution_count": 21,
      "outputs": [
        {
          "output_type": "stream",
          "name": "stdout",
          "text": [
            "\n",
            "My RNNLayer Final Hidden State:\n",
            " tensor([[0.9025, 0.6456, 0.9313],\n",
            "        [0.8996, 0.6451, 0.9310]])\n",
            "\n",
            "PyTorch RNN Final Hidden State:\n",
            " tensor([[0.9025, 0.6456, 0.9313],\n",
            "        [0.8996, 0.6451, 0.9310]])\n",
            "\n",
            "Test Passed: MyRNNLayer matches PyTorch RNN!\n"
          ]
        }
      ]
    },
    {
      "cell_type": "markdown",
      "source": [
        "**Task 1.2:** Write a PyTorch module named `MyMultiRNNLayer` that operates as a stack of multiple RNN layers, processing sequences through them.\n",
        "\n",
        "To validate your implementation, use the provided `test_MultiRNNLayer` function to compare the behavior of your custom `MyMultiRNNLayer` with PyTorch's built-in RNN."
      ],
      "metadata": {
        "id": "LWLONw2yL9IH"
      }
    },
    {
      "cell_type": "code",
      "source": [
        "# MyMulti-Layer RNN Implementation\n",
        "class MyMultiLayerRNN(nn.Module):\n",
        "    def __init__(self, input_size, hidden_size, num_layers):\n",
        "        super(MyMultiLayerRNN, self).__init__()\n",
        "        self.num_layers = num_layers\n",
        "        self.hidden_size = hidden_size\n",
        "\n",
        "        #################################################\n",
        "        ## TODO:  Create multiple RNN layers           ##\n",
        "        #################################################\n",
        "        # related document: https://pytorch.org/docs/stable/generated/torch.nn.ModuleList.html\n",
        "\n",
        "        self.layers = nn.ModuleList([MyRNNLayer(input_size if i == 0 else hidden_size, hidden_size) for i in range(num_layers)])\n",
        "\n",
        "        ######################################\n",
        "        ############ End of your code ########\n",
        "        ######################################\n",
        "\n",
        "\n",
        "    def forward(self, x, h0):\n",
        "        \"\"\"\n",
        "        Forward pass through the multi-layer RNN.\n",
        "        :param x: Input sequence (time_steps, batch_size, input_size)\n",
        "        :param h0: Initial hidden states (num_layers, batch_size, hidden_size)\n",
        "        :return: Sequence output (time_steps, batch_size, hidden_size), final hidden states (num_layers, batch_size, hidden_size)\n",
        "        \"\"\"\n",
        "        h = h0\n",
        "        seq = x\n",
        "        final_hidden_states = []\n",
        "\n",
        "        #################################################\n",
        "        ## TODO: apply multiple RNN layer              ##\n",
        "        #################################################\n",
        "        for i in range(self.num_layers):\n",
        "            # update sequence and x each layer\n",
        "            seq, h = self.layers[i](seq, h0[i])\n",
        "            final_hidden_states.append(h)\n",
        "\n",
        "        final_hidden_states = torch.stack(final_hidden_states)\n",
        "        #################################################\n",
        "        ##           End of your code                  ##\n",
        "        #################################################\n",
        "\n",
        "        return seq, final_hidden_states\n",
        "\n",
        "\n",
        "@torch.no_grad()\n",
        "def test_multi_layer_rnn():\n",
        "    # Set parameters\n",
        "    input_size = 4\n",
        "    hidden_size = 3\n",
        "    batch_size = 2\n",
        "    time_steps = 5\n",
        "    num_layers = 2\n",
        "\n",
        "    # Initialize custom multi-layer RNN\n",
        "    custom_rnn = MyMultiLayerRNN(input_size, hidden_size, num_layers)\n",
        "\n",
        "    # Initialize PyTorch RNN using weights of custom RNN\n",
        "    rnn = nn.RNN(input_size, hidden_size, num_layers, batch_first=False, nonlinearity='tanh')\n",
        "    for i in range(num_layers):\n",
        "        getattr(rnn, f\"weight_ih_l{i}\").data = custom_rnn.layers[i].Wxh.data.clone()\n",
        "        getattr(rnn, f\"weight_hh_l{i}\").data = custom_rnn.layers[i].Whh.data.clone()\n",
        "        getattr(rnn, f\"bias_ih_l{i}\").data = custom_rnn.layers[i].bh.data.clone()\n",
        "        getattr(rnn, f\"bias_hh_l{i}\").data = torch.zeros_like(getattr(rnn, f\"bias_hh_l{i}\").data)  # Zero bias_hh\n",
        "\n",
        "    # Random input\n",
        "    x = torch.randn(time_steps, batch_size, input_size)\n",
        "    h0 = torch.zeros(num_layers, batch_size, hidden_size)\n",
        "\n",
        "    # Forward pass through custom RNN\n",
        "    h_custom_seq, h_custom_final = custom_rnn(x, h0)\n",
        "\n",
        "    # Forward pass through PyTorch RNN\n",
        "    h0_torch = h0  # PyTorch expects (num_layers, batch_size, hidden_size)\n",
        "    h_pytorch_seq, h_pytorch_final = rnn(x, h0_torch)\n",
        "\n",
        "    # Compare outputs\n",
        "    print(\"\\nCustom Multi-Layer RNN Final Hidden States:\\n\", h_custom_final)\n",
        "    print(\"\\nPyTorch Multi-Layer RNN Final Hidden States:\\n\", h_pytorch_final)\n",
        "\n",
        "    # Assert similarity using torch.allclose\n",
        "    seq_match = torch.allclose(h_custom_seq, h_pytorch_seq, rtol=1e-5, atol=1e-5)\n",
        "    final_match = torch.allclose(h_custom_final, h_pytorch_final, rtol=1e-5, atol=1e-5)\n",
        "\n",
        "    if seq_match and final_match:\n",
        "        print(\"\\nTest Passed: Custom Multi-Layer RNN matches PyTorch Multi-Layer RNN!\")\n",
        "    else:\n",
        "        print(\"\\nTest Failed: Outputs do not match.\")\n",
        "        if not seq_match:\n",
        "            print(\"Sequence outputs do not match.\")\n",
        "        if not final_match:\n",
        "            print(\"Final hidden states do not match.\")"
      ],
      "metadata": {
        "id": "RGl7OErhMWbp"
      },
      "execution_count": 26,
      "outputs": []
    },
    {
      "cell_type": "code",
      "source": [
        "# Run the test RNN layer function, you should expect `Test Passed` in the output\n",
        "# Below is an example test success output\n",
        "# Custom Multi-Layer RNN Final Hidden States:\n",
        "# tensor([[[ 0.1253,  0.0355,  0.4360],\n",
        "#         [ 0.2587,  0.0225,  0.0261]],\n",
        "#\n",
        "#        [[ 0.0104,  0.0608, -0.0607],\n",
        "#         [-0.0098,  0.0013, -0.0216]]])\n",
        "#\n",
        "# PyTorch Multi-Layer RNN Final Hidden States:\n",
        "# tensor([[[ 0.1253,  0.0355,  0.4360],\n",
        "#         [ 0.2587,  0.0225,  0.0261]],\n",
        "#\n",
        "#        [[ 0.0104,  0.0608, -0.0607],\n",
        "#         [-0.0098,  0.0013, -0.0216]]])\n",
        "#\n",
        "# Test Passed: Custom Multi-Layer RNN matches PyTorch Multi-Layer RNN!\n",
        "\n",
        "test_multi_layer_rnn()"
      ],
      "metadata": {
        "id": "4C2j9Lp4MtTd",
        "colab": {
          "base_uri": "https://localhost:8080/"
        },
        "outputId": "b536b1ef-e4d5-47f1-c8cf-9ee7dc23f366"
      },
      "execution_count": 27,
      "outputs": [
        {
          "output_type": "stream",
          "name": "stdout",
          "text": [
            "\n",
            "Custom Multi-Layer RNN Final Hidden States:\n",
            " tensor([[[-0.7543,  0.9292, -0.9694],\n",
            "         [-0.7636,  0.9322, -0.9700]],\n",
            "\n",
            "        [[-0.7280, -0.7464,  0.9520],\n",
            "         [-0.7282, -0.7464,  0.9520]]])\n",
            "\n",
            "PyTorch Multi-Layer RNN Final Hidden States:\n",
            " tensor([[[-0.7543,  0.9292, -0.9694],\n",
            "         [-0.7636,  0.9322, -0.9700]],\n",
            "\n",
            "        [[-0.7280, -0.7464,  0.9520],\n",
            "         [-0.7282, -0.7464,  0.9520]]])\n",
            "\n",
            "Test Passed: Custom Multi-Layer RNN matches PyTorch Multi-Layer RNN!\n"
          ]
        }
      ]
    },
    {
      "cell_type": "markdown",
      "source": [
        "## Task 2: Train character-RNN language model\n",
        "\n",
        "### Preliminary: Language Model Recap\n",
        "\n",
        "As we have discussed in the lecture, the language modeling task aims to minimize the next token prediction loss on every token in the text corpus:\n",
        "\n",
        "$$\\mathrm{min} _{\\theta} \\sum_{i=1}^{L-1}\\ell_{\\mathrm{CE}}[p(x_{i}|\\boldsymbol{x}_{<i}), x_i]$$\n",
        "\n",
        "where $\\boldsymbol x$ is one input example (a document consists of one or multiple sentences), $x_i$ is a unit of the example (a word or a character), and $L$ is the number of units in the input example (we use 0 as the start index). In this task, we will consider a character language model and each $x_i$ will be the $i$-th character in the whole sentence. For instance, $x$ refers to the following document:\n",
        "\n",
        "```\n",
        "In this homework, you will:\n",
        "\n",
        "1. Implement a basic pytorch RNN module\n",
        "```\n",
        "\n",
        "Then in Python, this document is stored in a string:\n",
        "\n",
        "```python\n",
        "\"In this homework, you will:\\n\\n1. Implement a basic pytorch RNN module\"\n",
        "```\n",
        "\n",
        "Therefore, $x_0$ is \"I\", $x_1$ is \"n\", $x_3$ is \" \", and $x_{27}$ is \"\\n\" (suppose we do not normalize the texts here).\n",
        "\n",
        "\n",
        "\n",
        "### Preliminary: Preprocess for Language Modeling Training\n",
        "\n",
        "When implementing the language modeling task, we need to train our RNN language model (LM) via mini-batch gradient descent and process a batch of examples at one time (forward, compute the loss, and backward).\n",
        "\n",
        "In image classification tasks, the input shapes across a batch of examples are always the same. For example, a batch of 8 images and each of them has shape $3\\times28\\times28$ (RGB, width, height). Then we can convert each image into pytorch 3D tensor and then stack them into a 4D input tensor ($8\\times3\\times28\\times28$).\n",
        "\n",
        "However, in NLP tasks, things are quite different. Suppose we set the batch size as 2 and for 1st example, we have a document with 25 characters. For 2nd example, assume we have 30 characters. Then, the input shapes will be $(25,)$ and $(30,)$, respectively. This is because each input is now represented as a 1D tensor, with the length being the number of input units (characters in our case). In PyTorch, we are unable to stack two 1D tensors with shape $(25,)$ and $(30,)$ into a 2D tensor, as their shape are different. There are typically two solutions for this:\n",
        "\n",
        "- Padding. Pad the short examples to the same length as the longest example. Let's say the first example is $\\boldsymbol x^{(1)} = \\text{Hello world.}$ and the second example is $\\boldsymbol x^{(2)} = \\text{PhP is the best programming language.}$ Then we can process $\\boldsymbol x^{(1)}$ into $\\text{Hello world. [PAD] [PAD]...}$, where [PAD] is a special token and no loss will be computed on it (you need to set the word index of [PAD] as -100, and the pytorch cross entropy loss will ignore the loss where the label is -100). See https://pytorch.org/docs/stable/generated/torch.nn.CrossEntropyLoss.html#torch.nn.CrossEntropyLoss (`*ignore_index*`).\n",
        "\n",
        "- Packing. We can pre-set a maximum length for training. If one example is shorter than that length, we \"lend\" characters/words from the next example to fill in the left space. If one example is longer than that length, we \"rent\" those exceeding content to the next example. For instance, consider a word-level language modeling task:\n",
        "\n",
        "  - x1= hello world (2 words)\n",
        "  - x2 = php is the best programming language without any doubts (6 words)\n",
        "\n",
        "  We want to set the max length as 4. Then we perform packing and those examples will be processed into:\n",
        "\n",
        "  - x1 = hello world [eos] php (move php from the original x2 to x1)\n",
        "  - x2 = is the best [eos] (exceeds the max length, truncate it)\n",
        "  - x3 = programming language without [eos]\n",
        "  - any doubts [eos] (after adding eos, still only 3 words < 4, then discard this)\n",
        "\n",
        "  Finally, those two examples are processed into\n",
        "\n",
        "  - x1 = hello world [eos] php\n",
        "  - x2 = is the best [eos]\n",
        "  - x3 = programming language without [eos]\n",
        "\n",
        "You may feel the above packing makes each example unreadable. But this is fine. In realistic we have a much longer length (e.g., 4096) and that is not a problem anymore. It also prevent from adding padding tokens, which is a waste of computing (as no loss is computed actually)\n",
        "\n",
        "In the following task 2.1, you will need to implement a similar preprocess to packing. However, to make it easier, there is no explicit `examples` anymore. Instead, you will treat a whole text file as a single document, and split it into multiple examples with a maximum length. For example, assume the text file contains the following content:\n",
        "\n",
        "```\n",
        "The Term “Bug” Comes from a Real Insect\n",
        "The term \"bug\" in computer science refers to an error in a program, but it originally came from a real moth\n",
        "\n",
        "The \"404\" Error Has a Funny Origin.\n",
        "```\n",
        "\n",
        "and suppose we set the max length as 40 characters.\n",
        "\n",
        "Then the split results will be:\n",
        "\n",
        "```py\n",
        "# do not forget \\n! It is a character\n",
        "x1=['T', 'h', 'e', ' ', 'T', 'e', 'r', 'm', ' ', '“', 'B', 'u', 'g', '”', ' ', 'C', 'o', 'm', 'e', 's', ' ', 'f', 'r', 'o', 'm', ' ', 'a', ' ', 'R', 'e', 'a', 'l', ' ', 'I', 'n', 's', 'e', 'c', 't', '\\n']\n",
        "x2=['T', 'h', 'e', ' ', 't', 'e', 'r', 'm', ' ', '\"', 'b', 'u', 'g', '\"', ' ', 'i', 'n', ' ', 'c', 'o', 'm', 'p', 'u', 't', 'e', 'r', ' ', 's', 'c', 'i', 'e', 'n', 'c', 'e', ' ', 'r', 'e', 'f', 'e', 'r']\n",
        "x3=['s', ' ', 't', 'o', ' ', 'a', 'n', ' ', 'e', 'r', 'r', 'o', 'r', ' ', 'i', 'n', ' ', 'a', ' ', 'p', 'r', 'o', 'g', 'r', 'a', 'm', ',', ' ', 'b', 'u', 't', ' ', 'i', 't', ' ', 'o', 'r', 'i', 'g', 'i']\n",
        "\n",
        "# `The \"404\" E` comes from the 4-th line\n",
        "x4=['n', 'a', 'l', 'l', 'y', ' ', 'c', 'a', 'm', 'e', ' ', 'f', 'r', 'o', 'm', ' ', 'a', ' ', 'r', 'e', 'a', 'l', ' ', 'm', 'o', 't', 'h', '\\n', '\\n', 'T', 'h', 'e', ' ', '\"', '4', '0', '4', '\"', ' ', 'E']\n",
        "\n",
        "# x5 is discarded as it cannot fill into a full example (40 characters)\n",
        "# x5=['r', 'o', 'r', ' ', 'H', 'a', 's', ' ', 'a', ' ', 'F', 'u', 'n', 'n', 'y', ' ', 'O', 'r', 'i', 'g', 'i', 'n', '.']\n",
        "```\n",
        "\n",
        "By doing this, we split the original text file into 4 training examples.\n",
        "\n",
        "\n",
        "**Task 2.1:** Write a `CharDataset` module that processes a text file for training a character-level RNN. The module should handle the following:\n",
        "\n",
        "1. Reading and Splitting the Text: Load the input text file and divide it into fixed-length chunks. If the remaining characters at the end of the file are not enough to form a complete chunk, discard them.\n",
        "\n",
        "2. Building the Vocabulary: Extract all unique characters present in the text file to form the vocabulary. Create a character-to-index dictionary that maps each character to a unique ID, and a corresponding index-to-character dictionary to map IDs back to characters.\n",
        "\n",
        "Include two special tokens in the vocabulary, where `<end>` with index 0 represents the end of generation, and `<unk>` with index 1 represents a unknown character.\n",
        "\n",
        "Inlude\n",
        "\n",
        "3. Returning Data Samples: For each chunk, append the end-of-sequence token to the input sequence. Generate the corresponding label for the chunk, where the label is the shifted version of the input sequence."
      ],
      "metadata": {
        "id": "tPxeCOxfOeCd"
      }
    },
    {
      "cell_type": "code",
      "source": [
        "# Run this cell to download the text files we need\n",
        "!wget https://cs.stanford.edu/people/karpathy/char-rnn/shakespeare_input.txt\n",
        "!wget https://cs.stanford.edu/people/karpathy/char-rnn/linux_input.txt"
      ],
      "metadata": {
        "id": "w2AQ0vbAPxZs",
        "colab": {
          "base_uri": "https://localhost:8080/"
        },
        "outputId": "b288cb37-2bca-41a9-c583-1d3b8600b9d9"
      },
      "execution_count": 5,
      "outputs": [
        {
          "output_type": "stream",
          "name": "stdout",
          "text": [
            "--2024-12-08 20:13:01--  https://cs.stanford.edu/people/karpathy/char-rnn/shakespeare_input.txt\n",
            "Resolving cs.stanford.edu (cs.stanford.edu)... 171.64.64.64\n",
            "Connecting to cs.stanford.edu (cs.stanford.edu)|171.64.64.64|:443... connected.\n",
            "HTTP request sent, awaiting response... 200 OK\n",
            "Length: 4573338 (4.4M) [text/plain]\n",
            "Saving to: ‘shakespeare_input.txt’\n",
            "\n",
            "shakespeare_input.t 100%[===================>]   4.36M  4.21MB/s    in 1.0s    \n",
            "\n",
            "2024-12-08 20:13:02 (4.21 MB/s) - ‘shakespeare_input.txt’ saved [4573338/4573338]\n",
            "\n",
            "--2024-12-08 20:13:02--  https://cs.stanford.edu/people/karpathy/char-rnn/linux_input.txt\n",
            "Resolving cs.stanford.edu (cs.stanford.edu)... 171.64.64.64\n",
            "Connecting to cs.stanford.edu (cs.stanford.edu)|171.64.64.64|:443... connected.\n",
            "HTTP request sent, awaiting response... 200 OK\n",
            "Length: 6206996 (5.9M) [text/plain]\n",
            "Saving to: ‘linux_input.txt’\n",
            "\n",
            "linux_input.txt     100%[===================>]   5.92M  6.05MB/s    in 1.0s    \n",
            "\n",
            "2024-12-08 20:13:04 (6.05 MB/s) - ‘linux_input.txt’ saved [6206996/6206996]\n",
            "\n"
          ]
        }
      ]
    },
    {
      "cell_type": "code",
      "source": [
        "from itertools import islice\n",
        "\n",
        "from torch.utils.data import DataLoader, Dataset\n",
        "class CharDataset(Dataset):\n",
        "    def __init__(self, textfile, seq_length):\n",
        "        with open(textfile, 'r', encoding='utf-8', errors='ignore') as f:\n",
        "            text = f.read().strip() # A string containing all characters\n",
        "        all_chars = list(text)\n",
        "        self.seq_length = seq_length\n",
        "\n",
        "        self.eos_char = '<end>'\n",
        "        self.unk_char = '<unk>'\n",
        "        self.char2idx = {'<end>' : 0, '<unk>' : 1}\n",
        "        self.idx2char = {0: '<end>', 1: '<unk>'}\n",
        "        # this list contains the splitted char chunks, each chunk contains the character indexes\n",
        "        self.char_chunks = []\n",
        "\n",
        "        ##############################################################\n",
        "        ## TODO:                                                    ##\n",
        "        ## 1. Build vocab: count unique characters in the text file  ##\n",
        "        ## 2. Split chunk: split the text file characters to chunk   ##\n",
        "        ##############################################################\n",
        "        chars = set(all_chars)\n",
        "        for c in chars:\n",
        "            self.char2idx[c] = len(self.char2idx)\n",
        "            self.idx2char[self.char2idx[c]] = c\n",
        "\n",
        "        for i in range(0, len(all_chars), seq_length):\n",
        "            if not i + seq_length > len(all_chars):\n",
        "                chunk = all_chars[i : i + seq_length]\n",
        "                chars = []\n",
        "                for c in chunk:\n",
        "                    if c in self.char2idx:\n",
        "                        chars.append(self.char2idx[c])\n",
        "                    else:\n",
        "                        chars.append(self.char2idx['<unk>'])\n",
        "                # chars.append(self.char2idx['<end>'])\n",
        "                self.char_chunks.append(chars)\n",
        "\n",
        "        ##############################################################\n",
        "        ##           End of your code                               ##\n",
        "        ##############################################################\n",
        "\n",
        "        self.vocab_size = len(self.char2idx)\n",
        "\n",
        "    def __len__(self):\n",
        "        return len(self.char_chunks)\n",
        "\n",
        "    def __getitem__(self, idx):\n",
        "        # Returns tuple: (x, y) where x is the input sequence and y is the target sequence,\n",
        "        # shifted one position with an end-of-sequence token (index 0) at the end.\n",
        "\n",
        "        ##############################################################\n",
        "        ## TODO: retrieve the idx-th chunk                          ##\n",
        "        ##############################################################\n",
        "\n",
        "        # x does not include last char <end>\n",
        "        # x = torch.tensor(self.char_chunks[idx][:-1], dtype=torch.long)\n",
        "        # x_i predicts y_i+1\n",
        "        # y = torch.tensor(self.char_chunks[idx][1:], dtype=torch.long)\n",
        "        x = self.char_chunks[idx]\n",
        "        y = x[1:] + [self.char2idx[self.eos_char]]\n",
        "        x = torch.tensor(x)\n",
        "        y = torch.tensor(y)\n",
        "\n",
        "        ##############################################################\n",
        "        ##           End of your code                               ##\n",
        "        ##############################################################\n",
        "\n",
        "        return (x, y)\n",
        "\n",
        "test_data = CharDataset('linux_input.txt', 100)\n",
        "sample = test_data[0]\n",
        "print(\"Sample char index: \", sample[0].tolist())\n",
        "print(\"Sample input chars: \", \"\".join([test_data.idx2char[x] for x in sample[0].tolist()]))\n",
        "print(\"Sample target chars: \", \"\".join([test_data.idx2char[x] for x in sample[1].tolist()]))"
      ],
      "metadata": {
        "id": "VHn04UrBSXfQ",
        "colab": {
          "base_uri": "https://localhost:8080/"
        },
        "outputId": "ff2138b8-f437-4fb0-ca92-5a41bfd65121"
      },
      "execution_count": 28,
      "outputs": [
        {
          "output_type": "stream",
          "name": "stdout",
          "text": [
            "Sample char index:  [29, 18, 93, 58, 18, 58, 56, 92, 73, 76, 83, 29, 17, 85, 45, 73, 85, 56, 29, 92, 45, 81, 29, 34, 76, 96, 38, 49, 45, 38, 90, 85, 52, 59, 93, 58, 18, 93, 58, 18, 58, 24, 38, 49, 82, 45, 92, 91, 60, 96, 58, 48, 24, 20, 58, 26, 25, 25, 19, 32, 58, 26, 25, 25, 79, 74, 19, 47, 47, 15, 58, 72, 92, 73, 76, 98, 58, 11, 38, 45, 50, 34, 56, 43, 98, 32, 58, 41, 73, 91, 38, 58, 67, 38, 56, 73, 34, 45, 93, 58]\n",
            "Sample input chars:  /*\n",
            " * linux/kernel/irq/autoprobe.c\n",
            " *\n",
            " * Copyright (C) 1992, 1998-2004 Linus Torvalds, Ingo Molnar\n",
            " \n",
            "Sample target chars:  *\n",
            " * linux/kernel/irq/autoprobe.c\n",
            " *\n",
            " * Copyright (C) 1992, 1998-2004 Linus Torvalds, Ingo Molnar\n",
            " <end>\n"
          ]
        }
      ]
    },
    {
      "cell_type": "markdown",
      "source": [
        "\n",
        "**Task 2.2:** Implement a character-RNN language model module.\n",
        "\n",
        "In this task, you need to implement the `MyCharRNNLM` module, which includes the following components:\n",
        "\n",
        "1. `embedding`: Maps input character id to dense vector representation.\n",
        "\n",
        "2. `rnn`: The backbone RNN layers to process input sequence and captures temporal dependencies between characters.\n",
        "\n",
        "3. `lm_head`: A fully connected layer that maps the outputs of the RNN layers to logits over the vocabulary, which can later be transformed into a probability distribution using a softmax function."
      ],
      "metadata": {
        "id": "uxA6hp6DVawK"
      }
    },
    {
      "cell_type": "code",
      "source": [
        "class MyCharRNNLM(nn.Module):\n",
        "    def __init__(self, vocab_size, hidden_size, n_layers=1):\n",
        "        super(MyCharRNNLM, self).__init__()\n",
        "        self.hidden_size = hidden_size\n",
        "        self.n_layers = n_layers\n",
        "\n",
        "        #################################################\n",
        "        ## TODO:  Define the model                      ##\n",
        "        #################################################\n",
        "        # related document: https://pytorch.org/docs/stable/generated/torch.nn.Embedding.html\n",
        "\n",
        "        self.embedding = nn.Embedding(vocab_size, hidden_size)\n",
        "        self.rnn = nn.RNN(hidden_size, hidden_size, num_layers = self.n_layers, batch_first = True)\n",
        "        self.fc = nn.Linear(hidden_size, vocab_size)\n",
        "\n",
        "        #################################################\n",
        "        ## End of your code                            ##\n",
        "        #################################################\n",
        "\n",
        "    def forward(self, x, hidden):\n",
        "        #################################################\n",
        "        ## TODO:  Forward pass                         ##\n",
        "        #################################################\n",
        "        out, hidden = self.rnn(self.embedding(x), hidden)\n",
        "        out = self.fc(out)\n",
        "\n",
        "        #################################################\n",
        "        ## End of your code                            ##\n",
        "        #################################################\n",
        "        return out, hidden\n",
        "\n",
        "    def init_hidden(self, batch_size):\n",
        "        # This function initializes the dummy all 0 input,\n",
        "        # which is the initial h0 for RNN\n",
        "        return torch.zeros(self.n_layers, batch_size, self.hidden_size)"
      ],
      "metadata": {
        "id": "Lq-qcsRcY2jA"
      },
      "execution_count": 57,
      "outputs": []
    },
    {
      "cell_type": "markdown",
      "source": [
        "\n",
        "**Task 2.3:** Train a character-RNN language model on the shakespear and linux kernel file.\n",
        "\n",
        "In this task, you need to fill the missing parts of the following training loop function. Then train a 3-layer RNN langauge model on two text files. Report the training loss trajectory for both text file and save the final models.\n",
        "\n",
        "There is no target loss requirement but the training loss figure should be smoothly going down. As a reference, the training loss is around xxx for shakespear and xxx for linxu kernel.\n",
        "\n",
        "In this task, you need to complete the implementation of a character-level RNN language model training loop and train the model on two text files: the Shakespeare work file and the Linux kernel code file.\n",
        "\n",
        "Specifically,\n",
        "1. You should fill in the missing parts of the provided training loop function.\n",
        "\n",
        "2. Train a 3-layer RNN-based language model **separately** on the two text files.\n",
        "\n",
        "3. Plot and report the training loss trajectory for each text file. Save the final trained model for each file. The training loss should decrease smoothly. There is no specific reqruiement for the final training loss, but as a reference, the final training loss in TA's trial is around 1.5 for shakespear and 1.4 for linux kernel.\n",
        "\n",
        "\n",
        "The training requires ~90s for one epoch when trained on GPU. If you find your training too slow, please check if the colab runtime is a GPU runtime.\n"
      ],
      "metadata": {
        "id": "hpzdSqVvSZfl"
      }
    },
    {
      "cell_type": "code",
      "source": [
        "import matplotlib.pyplot as plt\n",
        "def visualize_train_loss(losses):\n",
        "    plt.figure(figsize=(10, 5))\n",
        "    plt.plot(losses, label=\"Train Loss\")\n",
        "    plt.xlabel(\"Train step\")\n",
        "    plt.ylabel(\"Train Loss\")\n",
        "    plt.show()\n",
        "\n",
        "def save_model(model, save_path):\n",
        "    torch.save(model.to('cpu').state_dict(), save_path)\n",
        "\n",
        "def load_model(model, save_path):\n",
        "    state_dict = torch.load(save_path)\n",
        "    model.load_state_dict(state_dict)\n",
        "\n",
        "def train_loop(model, dataset, save_path, batch_size = 512, num_epochs=2,  device='cuda', report_every_step=10):\n",
        "    train_losses = []\n",
        "    criterion = nn.CrossEntropyLoss()\n",
        "    optimizer = optim.Adam(model.parameters(), lr=learning_rate)\n",
        "    dataloader = DataLoader(dataset, batch_size, num_workers=8, shuffle=True)\n",
        "\n",
        "    # Training loop\n",
        "    for epoch in range(num_epochs):\n",
        "        step = 0\n",
        "\n",
        "        #################################################\n",
        "        ## TODO:  Training of one epoch                ##\n",
        "        #################################################\n",
        "        # Remember to add following code to record training loss:\n",
        "        # if step % report_every_step == 0:\n",
        "        #   train_losses.append(loss.cpu().item())\n",
        "        #################################################\n",
        "\n",
        "        for x, y in dataloader:\n",
        "            x = x.to(device)\n",
        "            y = y.to(device)\n",
        "\n",
        "            # predictions\n",
        "            hidden = model.init_hidden(x.shape[0]).to(device)\n",
        "            output, hidden = model(x, hidden) # or x.t()?\n",
        "            # print(output.view(-1, output.size(-1)).shape)\n",
        "            # print(y.view(-1).shape)\n",
        "            # print(step)\n",
        "            # print(hidden)\n",
        "\n",
        "            # calculate loss\n",
        "            optimizer.zero_grad()\n",
        "            loss = criterion(output.view(-1, output.size(-1)), y.view(-1))\n",
        "            #loss = criterion(output.view(-1, output.size(-1)), y.view(-1))\n",
        "            # print(\"before \", loss.item())\n",
        "            loss.backward()\n",
        "            # print(loss.item())\n",
        "            optimizer.step()\n",
        "\n",
        "            # record loss\n",
        "            if step % report_every_step == 0:\n",
        "                train_losses.append(loss.item())\n",
        "            step += 1\n",
        "\n",
        "        #################################################\n",
        "        ## End of your code                            ##\n",
        "        #################################################\n",
        "\n",
        "    print(train_losses[-5:])\n",
        "    visualize_train_loss(train_losses)\n",
        "    save_model(model, save_path)\n",
        "    return model"
      ],
      "metadata": {
        "id": "1n-lOq1xZ0gx"
      },
      "execution_count": 43,
      "outputs": []
    },
    {
      "cell_type": "markdown",
      "source": [
        "To prevent the need to retrain the model if your Colab session disconnects, you can mount your Google Drive and save the model weights there.\n",
        "\n",
        "To do this, execute the following code. Note that you may be prompted to authenticate your Google account when mounting the drive.\n"
      ],
      "metadata": {
        "id": "dayEQhsBeqyu"
      }
    },
    {
      "cell_type": "code",
      "source": [
        "from google.colab import drive\n",
        "drive.mount('/content/drive')"
      ],
      "metadata": {
        "id": "xlyJ1-hneuoW",
        "colab": {
          "base_uri": "https://localhost:8080/"
        },
        "outputId": "71ddb078-5faa-4654-e167-4bb0116cd314"
      },
      "execution_count": null,
      "outputs": [
        {
          "output_type": "stream",
          "name": "stdout",
          "text": [
            "Mounted at /content/drive\n"
          ]
        }
      ]
    },
    {
      "cell_type": "code",
      "source": [
        "# Hyperparameters\n",
        "learning_rate = 0.005\n",
        "num_epochs = 10\n",
        "save_path = \"tmp_model\"\n",
        "batch_size = 128\n",
        "seq_length = 512\n",
        "\n",
        "num_layers = 3\n",
        "hidden_size = 128\n",
        "device = 'cuda' if torch.cuda.is_available() else 'cpu'\n",
        "\n",
        "book_data = CharDataset(\n",
        "    'shakespeare_input.txt', seq_length\n",
        ")\n",
        "code_data = CharDataset(\n",
        "    'linux_input.txt', seq_length\n",
        ")"
      ],
      "metadata": {
        "id": "O623JKajmh2B"
      },
      "execution_count": 10,
      "outputs": []
    },
    {
      "cell_type": "code",
      "source": [
        "# Run the following to train the model\n",
        "# Train on shakespear book\n",
        "book_rnnlm = MyCharRNNLM(book_data.vocab_size, hidden_size, num_layers)\n",
        "book_rnnlm = book_rnnlm.to(device)\n",
        "print(book_rnnlm)\n",
        "book_rnnlm = train_loop(\n",
        "    book_rnnlm, book_data, 'book_rnnlm.pt', batch_size, num_epochs, device=device, report_every_step=10,\n",
        ")\n",
        "\n",
        "# Train on linux kernel code\n",
        "code_loader = DataLoader(code_data, batch_size=batch_size, num_workers=8, shuffle=True)\n",
        "code_rnnlm = MyCharRNNLM(code_data.vocab_size, hidden_size, num_layers)\n",
        "code_rnnlm = code_rnnlm.to(device)\n",
        "print(code_rnnlm)\n",
        "code_rnnlm = train_loop(\n",
        "    code_rnnlm, code_data, 'code_rnnlm.pt', batch_size, num_epochs, device=device, report_every_step=10,\n",
        ")\n"
      ],
      "metadata": {
        "id": "LTFi9C2XeUTz",
        "colab": {
          "base_uri": "https://localhost:8080/",
          "height": 1000
        },
        "collapsed": true,
        "outputId": "93ca6b64-985f-4e5c-e235-08dd14f39c98"
      },
      "execution_count": 58,
      "outputs": [
        {
          "output_type": "stream",
          "name": "stdout",
          "text": [
            "MyCharRNNLM(\n",
            "  (embedding): Embedding(69, 128)\n",
            "  (rnn): RNN(128, 128, num_layers=3, batch_first=True)\n",
            "  (fc): Linear(in_features=128, out_features=69, bias=True)\n",
            ")\n"
          ]
        },
        {
          "output_type": "stream",
          "name": "stderr",
          "text": [
            "/usr/local/lib/python3.10/dist-packages/torch/utils/data/dataloader.py:617: UserWarning: This DataLoader will create 8 worker processes in total. Our suggested max number of worker in current system is 2, which is smaller than what this DataLoader is going to create. Please be aware that excessive worker creation might get DataLoader running slow or even freeze, lower the worker number to avoid potential slowness/freeze if necessary.\n",
            "  warnings.warn(\n"
          ]
        },
        {
          "output_type": "stream",
          "name": "stdout",
          "text": [
            "[1.4496351480484009, 1.4535263776779175, 1.4409323930740356, 1.4384859800338745, 1.4394344091415405]\n"
          ]
        },
        {
          "output_type": "display_data",
          "data": {
            "text/plain": [
              "<Figure size 1000x500 with 1 Axes>"
            ],
            "image/png": "[encoded data removed]"
          },
          "metadata": {}
        },
        {
          "output_type": "stream",
          "name": "stdout",
          "text": [
            "MyCharRNNLM(\n",
            "  (embedding): Embedding(101, 128)\n",
            "  (rnn): RNN(128, 128, num_layers=3, batch_first=True)\n",
            "  (fc): Linear(in_features=128, out_features=101, bias=True)\n",
            ")\n",
            "[1.2941588163375854, 1.349081039428711, 1.3873226642608643, 1.2951418161392212, 1.3378472328186035]\n"
          ]
        },
        {
          "output_type": "display_data",
          "data": {
            "text/plain": [
              "<Figure size 1000x500 with 1 Axes>"
            ],
            "image/png": "[encoded data removed]"
          },
          "metadata": {}
        }
      ]
    },
    {
      "cell_type": "markdown",
      "source": [
        "## Task 3: Play with the trained RNN language model\n",
        "\n",
        "**Task 3.1:** Load the trained model and generate sequences using it.\n",
        "\n",
        "In this homework, we will use the simplest approach—selecting the character with the highest probability at each step. This method is known as the greedy decoding strategy for language models, implemented in `generate_text` function. While there are more advanced decoding strategies available, we use this as a simple demonstration.\n",
        "\n",
        "Your task is to experiment with the two trained models by providing different prefix sequences and compare their generated outputs. Two example prefix is provided.\n",
        "\n",
        "Write **one short sentence** summarizing your observation about the differences between the two models' generation results."
      ],
      "metadata": {
        "id": "uEzRb0gSVfbg"
      }
    },
    {
      "cell_type": "markdown",
      "source": [
        "**One short sentence summarization of the observations:**\n",
        "\n",
        "The model is too weak to generate more unique outputs based on the input text and choosing argmax is too basic to include any nuance, so the model repeats the same few words over and over."
      ],
      "metadata": {
        "id": "CIFPwNLxm1ls"
      }
    },
    {
      "cell_type": "code",
      "source": [
        "def generate_text(model, prefix_str, dataset, predict_len=100):\n",
        "    device = 'cuda' if torch.cuda.is_available() else 'cpu'\n",
        "    model.eval()\n",
        "    model.to(device)\n",
        "    chars = list(prefix_str)\n",
        "    input_seq = torch.tensor([dataset.char2idx.get(ch, 1) for ch in prefix_str], dtype=torch.long).unsqueeze(0).to(device)\n",
        "    hidden = model.init_hidden(1).to(device)\n",
        "\n",
        "    for _ in range(predict_len):\n",
        "        output, hidden = model(input_seq, hidden)\n",
        "        last_char_logits = output[0, -1]\n",
        "        predicted_idx = torch.argmax(torch.softmax(last_char_logits, dim=0)).item()\n",
        "        chars.append(dataset.idx2char[predicted_idx])\n",
        "        input_seq = torch.tensor([[predicted_idx]], dtype=torch.long).to(device)\n",
        "        if predicted_idx == 0: # early exit when model predicts to end the generation\n",
        "            break\n",
        "\n",
        "    return ''.join(chars)"
      ],
      "metadata": {
        "id": "0REnrmdVgylz"
      },
      "execution_count": 66,
      "outputs": []
    },
    {
      "cell_type": "code",
      "source": [
        "code_prefix = \"#include <\"\n",
        "text_prefix = \"In sooth, my heart doth weigh \"\n",
        "\n",
        "with torch.inference_mode():\n",
        "    #################################################\n",
        "    ## TODO:  Play with the models!                ##\n",
        "    #################################################\n",
        "    # Call generate_text to experiment the two model with different prefixes\n",
        "    code = generate_text(code_rnnlm, code_prefix, code_data, 200)\n",
        "    text = generate_text(book_rnnlm, text_prefix, book_data, 200)\n",
        "    print(code)\n",
        "    print(text)"
      ],
      "metadata": {
        "id": "PXb0JC41inK1",
        "colab": {
          "base_uri": "https://localhost:8080/"
        },
        "outputId": "56d7982d-437a-4c71-fb22-d41e408af6ba"
      },
      "execution_count": 68,
      "outputs": [
        {
          "output_type": "stream",
          "name": "stdout",
          "text": [
            "#include <linux/state.h>\n",
            "#include <linux/state.h>\n",
            "#include <linux/state.h>\n",
            "#include <linux/state.h>\n",
            "#include <linux/state.h>\n",
            "#include <linux/state.h>\n",
            "#include <linux/state.h>\n",
            "#include <linux/state.h>\n",
            "#include <\n",
            "In sooth, my heart doth weigh the state the state the state the state the state the state the state the state the state the state the state the state the state the state the state the state the state the state the state the state \n"
          ]
        }
      ]
    }
  ]
}